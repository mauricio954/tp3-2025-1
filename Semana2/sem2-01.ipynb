{
 "cells": [
  {
   "cell_type": "markdown",
   "id": "7450d32b-9de5-43b8-87e7-ed68232afa50",
   "metadata": {},
   "source": [
    "Semana 02\n",
    "\n",
    "Mauricio\n",
    "\n",
    "temas\n",
    "\n",
    "1.Colecciones de datos\n",
    "2.Estructuras Decisivas y Estructuras Repetitivas \n",
    "3.Calses y Objetos\n",
    "4.Funciones"
   ]
  },
  {
   "cell_type": "code",
   "execution_count": 13,
   "id": "1dbe13b4-d4a9-4fa0-ba10-cf534ecfe48e",
   "metadata": {},
   "outputs": [
    {
     "name": "stdout",
     "output_type": "stream",
     "text": [
      "['ALALUNA', 'AVILA', 'CABANILLAS', 'CAMARGO']\n"
     ]
    }
   ],
   "source": [
    "#1.1. listas\n",
    "#Es una coleccion de elementos que puede ser ordenado\n",
    "# Se identifica\n",
    "aula = ['ALALUNA', 'AVILA', 'CABANILLAS', 'CAMARGO']\n",
    "print(aula)"
   ]
  },
  {
   "cell_type": "code",
   "execution_count": 15,
   "id": "34e47347-e0fb-44e1-b837-3e9524670bba",
   "metadata": {},
   "outputs": [
    {
     "name": "stdout",
     "output_type": "stream",
     "text": [
      "ALALUNA\n",
      "AVILA\n"
     ]
    }
   ],
   "source": [
    "print(aula[0])\n",
    "print(aula[1])"
   ]
  },
  {
   "cell_type": "code",
   "execution_count": 17,
   "id": "587a89eb-a990-4839-9468-b55989f5e7d1",
   "metadata": {},
   "outputs": [
    {
     "data": {
      "text/plain": [
       "'Chavez'"
      ]
     },
     "execution_count": 17,
     "metadata": {},
     "output_type": "execute_result"
    }
   ],
   "source": [
    "#puedo asignar\n",
    "aula[1]='Chavez'\n",
    "aula[1]"
   ]
  },
  {
   "cell_type": "code",
   "execution_count": 19,
   "id": "baa622e3-0376-4da9-b509-a0ec8d80a5df",
   "metadata": {},
   "outputs": [
    {
     "data": {
      "text/plain": [
       "['ALALUNA', 'Chavez', 'CABANILLAS', 'CAMARGO', 'Hermitaño', 'Gomez']"
      ]
     },
     "execution_count": 19,
     "metadata": {},
     "output_type": "execute_result"
    }
   ],
   "source": [
    "aula.append(\"Hermitaño\")\n",
    "aula.append(\"Gomez\")\n",
    "aula"
   ]
  },
  {
   "cell_type": "code",
   "execution_count": null,
   "id": "46b8fb97-0102-4d6d-ba62-5a14373afab9",
   "metadata": {},
   "outputs": [],
   "source": []
  }
 ],
 "metadata": {
  "kernelspec": {
   "display_name": "Python [conda env:base] *",
   "language": "python",
   "name": "conda-base-py"
  },
  "language_info": {
   "codemirror_mode": {
    "name": "ipython",
    "version": 3
   },
   "file_extension": ".py",
   "mimetype": "text/x-python",
   "name": "python",
   "nbconvert_exporter": "python",
   "pygments_lexer": "ipython3",
   "version": "3.12.7"
  }
 },
 "nbformat": 4,
 "nbformat_minor": 5
}
